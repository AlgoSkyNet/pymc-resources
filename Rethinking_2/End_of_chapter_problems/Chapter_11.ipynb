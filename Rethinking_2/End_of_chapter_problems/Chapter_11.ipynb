{
 "cells": [
  {
   "cell_type": "code",
   "execution_count": 2,
   "metadata": {
    "lines_to_next_cell": 2
   },
   "outputs": [],
   "source": [
    "import arviz as az\n",
    "import numpy as np\n",
    "import pandas as pd\n",
    "import pymc3 as pm\n",
    "\n",
    "from matplotlib import pylab as plt"
   ]
  },
  {
   "cell_type": "code",
   "execution_count": 3,
   "metadata": {},
   "outputs": [],
   "source": [
    "RANDOM_SEED = 8927\n",
    "np.random.seed(RANDOM_SEED)\n",
    "\n",
    "%config InlineBackend.figure_format = 'retina'\n",
    "%load_ext watermark\n",
    "az.style.use(\"arviz-darkgrid\")\n",
    "az.rcParams[\"stats.hdi_prob\"] = 0.89"
   ]
  },
  {
   "cell_type": "markdown",
   "metadata": {},
   "source": [
    "# Chapter 11 - GOD SPIKED THE INTEGERS"
   ]
  },
  {
   "cell_type": "markdown",
   "metadata": {},
   "source": [
    "## 11E1. \n",
    "\n",
    "**If an event has probability 0.35, what are the log-odds of this event?**\n",
    "\n",
    "### Answer \n",
    "For 11E1 and 11E2, see page 337 of 2nd edition, Overthinking box.\n",
    "\n",
    "```\n",
    "odds = p / (1 - p)\n",
    "log-odds = log(odds)\n",
    "         = log(0.35 / 0.65)\n",
    "```"
   ]
  },
  {
   "cell_type": "code",
   "execution_count": 5,
   "metadata": {},
   "outputs": [
    {
     "data": {
      "text/plain": [
       "-0.6190392084062235"
      ]
     },
     "execution_count": 5,
     "metadata": {},
     "output_type": "execute_result"
    }
   ],
   "source": [
    "np.log(0.35/0.65)"
   ]
  },
  {
   "cell_type": "markdown",
   "metadata": {},
   "source": [
    "## 11E2.\n",
    "\n",
    "**If an event has log-odds 3.2, what is the probability of this event?**\n",
    "\n",
    "### Answer\n",
    "Take the same approach as above and solve for p.\n",
    "\n",
    "```\n",
    "\n",
    "odds = p / (1 - p)\n",
    "\n",
    "odds * (1 - p) = p\n",
    "odds - odds * p = p\n",
    "\n",
    "Rearrange\n",
    "0 = p + odds * p - odds \n",
    "0 = p(1 + odds) - odds\n",
    "odds = p(1 + odds)\n",
    "\n",
    "p = odds / (1 + odds)\n",
    "              \n",
    "exp(log-odds) = odds\n",
    "\n",
    "p = exp(log-odds) / (1 + exp(log-odds))\n",
    "\n",
    "```"
   ]
  },
  {
   "cell_type": "code",
   "execution_count": 12,
   "metadata": {},
   "outputs": [
    {
     "data": {
      "text/plain": [
       "0.9608342772032357"
      ]
     },
     "execution_count": 12,
     "metadata": {},
     "output_type": "execute_result"
    }
   ],
   "source": [
    "np.exp(3.2) / (1 + np.exp(3.2))"
   ]
  },
  {
   "cell_type": "markdown",
   "metadata": {},
   "source": [
    "# NOTE\n",
    "\n",
    "Other solutions will be added or contributions welcome."
   ]
  },
  {
   "cell_type": "code",
   "execution_count": 14,
   "metadata": {},
   "outputs": [
    {
     "name": "stdout",
     "output_type": "stream",
     "text": [
      "Last updated: Tue Jan 04 2022\n",
      "\n",
      "Python implementation: CPython\n",
      "Python version       : 3.8.6\n",
      "IPython version      : 7.20.0\n",
      "\n",
      "numpy     : 1.20.1\n",
      "pymc3     : 3.11.0\n",
      "sys       : 3.8.6 | packaged by conda-forge | (default, Jan 25 2021, 23:22:12) \n",
      "[Clang 11.0.1 ]\n",
      "matplotlib: 3.3.4\n",
      "pandas    : 1.2.1\n",
      "arviz     : 0.11.1\n",
      "\n",
      "Watermark: 2.1.0\n",
      "\n"
     ]
    }
   ],
   "source": [
    "%watermark -n -u -v -iv -w"
   ]
  }
 ],
 "metadata": {
  "interpreter": {
   "hash": "e92bb7a9aacd9667df20255a0d1807f00b256076d24753ff832859a09e84cc67"
  },
  "jupytext": {
   "encoding": "# -*- coding: utf-8 -*-"
  },
  "kernelspec": {
   "display_name": "pymc3",
   "language": "python",
   "name": "python3"
  },
  "language_info": {
   "codemirror_mode": {
    "name": "ipython",
    "version": 3
   },
   "file_extension": ".py",
   "mimetype": "text/x-python",
   "name": "python",
   "nbconvert_exporter": "python",
   "pygments_lexer": "ipython3",
   "version": "3.8.6"
  }
 },
 "nbformat": 4,
 "nbformat_minor": 4
}
